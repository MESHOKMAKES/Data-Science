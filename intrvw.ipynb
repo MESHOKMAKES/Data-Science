{
  "nbformat": 4,
  "nbformat_minor": 0,
  "metadata": {
    "colab": {
      "provenance": [],
      "collapsed_sections": []
    },
    "kernelspec": {
      "name": "python3",
      "display_name": "Python 3"
    },
    "language_info": {
      "name": "python"
    }
  },
  "cells": [
    {
      "cell_type": "code",
      "source": [
        "class Count_of_buyers:\n",
        "  def __init__(self):\n",
        "    self.buyers = dict()\n",
        "\n",
        "  def dictionary_entry(self, n_first_id: int, n_customers: int)->dict:\n",
        "    for i in range(n_first_id, n_customers):\n",
        "      s = 0\n",
        "      while i != 0:\n",
        "        s += i % 10\n",
        "        i = i//10\n",
        "      if s in self.buyers:\n",
        "        self.buyers[s] += 1\n",
        "      else:\n",
        "        self.buyers[s] = 1\n",
        "\n",
        "  def count_of_buyers1(self, n_customers: int)->dict:\n",
        "    self.buyers = {0: 1}\n",
        "    self.dictionary_entry(1, n_customers)\n",
        "  \n",
        "  def count_of_buyers2(self, n_first_id: int, n_customers: int)->dict:\n",
        "    if n_first_id == 0:\n",
        "      self.buyers = {0: 1}\n",
        "      n_first_id += 1\n",
        "    self.dictionary_entry(n_first_id, n_customers)"
      ],
      "metadata": {
        "id": "P4XVNmLARXAC"
      },
      "execution_count": 92,
      "outputs": []
    },
    {
      "cell_type": "code",
      "source": [
        "# Пример использования\n",
        "cob1 = Count_of_buyers()\n",
        "cob1.count_of_buyers1(9999999)\n",
        "print('task 1', cob1.buyers)\n",
        "cob2 = Count_of_buyers()\n",
        "cob2.count_of_buyers2(100, 9999999)\n",
        "print('task 1', cob2.buyers)"
      ],
      "metadata": {
        "colab": {
          "base_uri": "https://localhost:8080/"
        },
        "id": "56r4a1QQRBP0",
        "outputId": "6ba5e71a-366a-4c20-a015-29f06c379981"
      },
      "execution_count": 94,
      "outputs": [
        {
          "output_type": "stream",
          "name": "stdout",
          "text": [
            "task 1 {0: 1, 1: 7, 2: 28, 3: 84, 4: 210, 5: 462, 6: 924, 7: 1716, 8: 3003, 9: 5005, 10: 8001, 11: 12327, 12: 18368, 13: 26544, 14: 37290, 15: 51030, 16: 68145, 17: 88935, 18: 113575, 19: 142065, 20: 174195, 21: 209525, 22: 247380, 23: 286860, 24: 326865, 25: 366135, 26: 403305, 27: 436975, 28: 465795, 29: 488565, 30: 504315, 31: 512365, 32: 512365, 33: 504315, 34: 488565, 35: 465795, 36: 436975, 37: 403305, 38: 366135, 39: 326865, 40: 286860, 41: 247380, 42: 209525, 43: 174195, 44: 142065, 45: 113575, 46: 88935, 47: 68145, 48: 51030, 49: 37290, 50: 26544, 51: 18368, 52: 12327, 53: 8001, 54: 5005, 55: 3003, 56: 1716, 57: 924, 58: 462, 59: 210, 60: 84, 61: 28, 62: 7}\n",
            "task 1 {1: 5, 2: 25, 3: 80, 4: 205, 5: 456, 6: 917, 7: 1708, 8: 2994, 9: 4995, 10: 7992, 11: 12319, 12: 18361, 13: 26538, 14: 37285, 15: 51026, 16: 68142, 17: 88933, 18: 113574, 19: 142065, 20: 174195, 21: 209525, 22: 247380, 23: 286860, 24: 326865, 25: 366135, 26: 403305, 27: 436975, 28: 465795, 29: 488565, 30: 504315, 31: 512365, 32: 512365, 33: 504315, 34: 488565, 35: 465795, 36: 436975, 37: 403305, 38: 366135, 39: 326865, 40: 286860, 41: 247380, 42: 209525, 43: 174195, 44: 142065, 45: 113575, 46: 88935, 47: 68145, 48: 51030, 49: 37290, 50: 26544, 51: 18368, 52: 12327, 53: 8001, 54: 5005, 55: 3003, 56: 1716, 57: 924, 58: 462, 59: 210, 60: 84, 61: 28, 62: 7}\n"
          ]
        }
      ]
    }
  ]
}